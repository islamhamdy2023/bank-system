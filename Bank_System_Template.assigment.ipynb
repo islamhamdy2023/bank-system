{
 "cells": [
  {
   "cell_type": "markdown",
   "metadata": {
    "id": "3e4EWi6G4PX0"
   },
   "source": [
    "![image.png](attachment:image.png)"
   ]
  },
  {
   "cell_type": "markdown",
   "metadata": {
    "id": "gqmdOwfw4PX_"
   },
   "source": [
    "> ### The Central Bank contacted our technical team and asked it to develop a program suitable for all banks, with the addition of some advantages for certain banks"
   ]
  },
  {
   "cell_type": "markdown",
   "metadata": {
    "id": "6vneWp-f4PYB"
   },
   "source": [
    "# Task 1 : \n",
    "- #### task 1.1 Make Class(User) with attributes:\n",
    "    - name \n",
    "    - age \n",
    "    - gender \n",
    "    - balance\n",
    "- #### task 1.2 Make method to show previous data "
   ]
  },
  {
   "cell_type": "code",
   "execution_count": 2,
   "metadata": {},
   "outputs": [],
   "source": [
    "class user:\n",
    "    def __init__(self,name,age,gender,balance):\n",
    "        self.name=name\n",
    "        self.age=age\n",
    "        self.gender=gender\n",
    "        self.balance=int(balance)\n",
    "        print(f' name of user is {self.name}, age of user is {age}, gender is {gender} and balance is {balance}')\n",
    "    def showdata(self):\n",
    "        print(f' the data of user is {self.name , self.age , self.gender , self.balance}')"
   ]
  },
  {
   "cell_type": "code",
   "execution_count": 3,
   "metadata": {},
   "outputs": [
    {
     "name": "stdout",
     "output_type": "stream",
     "text": [
      " name of user is islam, age of user is 26, gender is male and balance is 16500\n"
     ]
    }
   ],
   "source": [
    "user1=user('islam','26','male',16500)"
   ]
  },
  {
   "cell_type": "code",
   "execution_count": 5,
   "metadata": {},
   "outputs": [
    {
     "name": "stdout",
     "output_type": "stream",
     "text": [
      " the data of user is ('islam', '26', 'male', 16500)\n"
     ]
    }
   ],
   "source": [
    "user1.showdata()"
   ]
  },
  {
   "cell_type": "markdown",
   "metadata": {
    "id": "upGuF1tU4PYD"
   },
   "source": [
    "# Task 2 : \n",
    "- Make Child Class(Bank) which inherite from Class(user) with Mehods:\n",
    "    - #### task 2.1 deposite : which take parameter(amount) and add it to balance and print new balance.  \n",
    "    - #### task 2.2 withdraw : which take parameter(amount) and check if user have enough money. \n",
    "    - #### task 2.3 view balance : to show current balance. \n"
   ]
  },
  {
   "cell_type": "code",
   "execution_count": 6,
   "metadata": {},
   "outputs": [],
   "source": [
    "class deposite(user):\n",
    "    def add_to_balance(self,new_balance):\n",
    "        self.balance+=new_balance\n",
    "        print(f'the new balance is {self.balance}')"
   ]
  },
  {
   "cell_type": "code",
   "execution_count": 7,
   "metadata": {},
   "outputs": [],
   "source": [
    "class withdraw(deposite):\n",
    "    def withdraw_from_balance(self,money_i_want):\n",
    "        if money_i_want>self.balance:\n",
    "            print(' balance is not enough')\n",
    "        else:\n",
    "            self.balance-=money_i_want\n",
    "            print(self.balance)"
   ]
  },
  {
   "cell_type": "code",
   "execution_count": 9,
   "metadata": {},
   "outputs": [],
   "source": [
    "class viewbalance(withdraw):\n",
    "    def current_balance(self):\n",
    "        \n",
    "        print(f' the current balance is {self.balance}')\n",
    "    "
   ]
  },
  {
   "cell_type": "code",
   "execution_count": 10,
   "metadata": {},
   "outputs": [
    {
     "name": "stdout",
     "output_type": "stream",
     "text": [
      " name of user is islam, age of user is 26, gender is male and balance is 16500\n"
     ]
    }
   ],
   "source": [
    "user2=viewbalance('islam','26','male',16500)"
   ]
  },
  {
   "cell_type": "code",
   "execution_count": 11,
   "metadata": {},
   "outputs": [
    {
     "name": "stdout",
     "output_type": "stream",
     "text": [
      "15500\n"
     ]
    }
   ],
   "source": [
    "user2.withdraw_from_balance(1000)"
   ]
  },
  {
   "cell_type": "code",
   "execution_count": 12,
   "metadata": {},
   "outputs": [
    {
     "name": "stdout",
     "output_type": "stream",
     "text": [
      "0\n"
     ]
    }
   ],
   "source": [
    "user2.withdraw_from_balance(15500)"
   ]
  },
  {
   "cell_type": "code",
   "execution_count": 13,
   "metadata": {},
   "outputs": [
    {
     "name": "stdout",
     "output_type": "stream",
     "text": [
      " balance is not enough\n"
     ]
    }
   ],
   "source": [
    "user2.withdraw_from_balance(15500)"
   ]
  },
  {
   "cell_type": "code",
   "execution_count": 14,
   "metadata": {},
   "outputs": [
    {
     "name": "stdout",
     "output_type": "stream",
     "text": [
      " the current balance is 0\n"
     ]
    }
   ],
   "source": [
    "user2.current_balance()"
   ]
  },
  {
   "cell_type": "code",
   "execution_count": 15,
   "metadata": {
    "id": "0CN9pJkQ4PYE"
   },
   "outputs": [
    {
     "name": "stdout",
     "output_type": "stream",
     "text": [
      " name of user is islam, age of user is 26, gender is male and balance is 16500\n",
      "please enter the password:1111\n",
      " welcome <__main__.viewbalance object at 0x00000285CB974520>\n",
      "if you want to deposite_press [1]\n",
      "if you want to withdraw_press[2]\n",
      "if you want to viewbalalce_press[3]\n",
      "1\n",
      "put the money\n",
      "1000\n",
      "the new balance is 17500\n",
      "if you want to quit press [q]\n",
      "if you want to continue press[c]\n",
      "c\n",
      "please enter the password:1111\n",
      " welcome <__main__.viewbalance object at 0x00000285CB974520>\n",
      "if you want to deposite_press [1]\n",
      "if you want to withdraw_press[2]\n",
      "if you want to viewbalalce_press[3]\n",
      "2\n",
      "withdraw the money from balance\n",
      "500\n",
      "17000\n",
      "if you want to quit press [q]\n",
      "if you want to continue press[c]\n",
      "c\n",
      "please enter the password:1111\n",
      " welcome <__main__.viewbalance object at 0x00000285CB974520>\n",
      "if you want to deposite_press [1]\n",
      "if you want to withdraw_press[2]\n",
      "if you want to viewbalalce_press[3]\n",
      "3\n",
      "the current balance is\n",
      " the current balance is 17000\n",
      "if you want to quit press [q]\n",
      "if you want to continue press[c]\n",
      "q\n"
     ]
    }
   ],
   "source": [
    "class user:\n",
    "    def __init__(self,name,age,gender,balance):\n",
    "        self.name=name\n",
    "        self.age=age\n",
    "        self.gender=gender\n",
    "        self.balance=int(balance)\n",
    "        print(f' name of user is {self.name}, age of user is {age}, gender is {gender} and balance is {balance}')\n",
    "    def showdata(self):\n",
    "        print(f' the data of user is {self.name , self.age , self.gender , self.balance}')\n",
    "class deposite(user):\n",
    "    def add_to_balance(self,new_balance):\n",
    "        self.balance+=new_balance\n",
    "        print(f'the new balance is {self.balance}')\n",
    "class withdraw(deposite):\n",
    "    def withdraw_from_balance(self,money_i_want):\n",
    "        if money_i_want>self.balance:\n",
    "            print(' balance is not enough')\n",
    "        else:\n",
    "            self.balance-=money_i_want\n",
    "            print(self.balance)\n",
    "class viewbalance(withdraw):\n",
    "    def current_balance(self):\n",
    "        \n",
    "        print(f' the current balance is {self.balance}')\n",
    "user1=viewbalance('islam','26','male',16500)\n",
    "while True:\n",
    "    password=int(input('please enter the password:'))\n",
    "    if password==1111:\n",
    "        print(f' welcome {user1}')\n",
    "        print('if you want to deposite_press [1]\\nif you want to withdraw_press[2]\\nif you want to viewbalalce_press[3]')\n",
    "        choose=int(input())\n",
    "        if choose !=1 and choose !=2 and choose!=3:\n",
    "            print('please choose 1 or 2 or 3')\n",
    "        elif choose==1:\n",
    "            print('put the money')\n",
    "            new_balance=int(input())\n",
    "            user1.add_to_balance(new_balance)\n",
    "        elif choose==2:\n",
    "            print('withdraw the money from balance')\n",
    "            money_i_want=int(input())\n",
    "            user1.withdraw_from_balance(money_i_want)\n",
    "        elif choose==3:\n",
    "            print('the current balance is')\n",
    "            user1.current_balance()        \n",
    "    else:\n",
    "        print(f'please right the correct password:') \n",
    "    print('if you want to quit press [q]\\nif you want to continue press[c]')\n",
    "    exit=input()\n",
    "    if exit=='q':\n",
    "        break\n",
    "    elif exit !='q' and exit !='c':\n",
    "        print('please choose from choices')\n",
    "    else:\n",
    "        continue"
   ]
  },
  {
   "cell_type": "markdown",
   "metadata": {
    "id": "jYKkSbUN4PYE"
   },
   "source": [
    "# Task 3 : \n",
    "- #### task 3.1 Make Child Class(CIB) which inherite from Class(Bank) with Mehods:\n",
    "    -   Loan application: which take parameter(amount) and  (Duration) >> max loan is one million\n",
    "- #### task 3.2 Make Child Class(QNB) which inherite from Class(Bank) with Mehods:\n",
    "    -   Loan application: which take parameter(amount) and  (Duration) >> max loan is one 2 million"
   ]
  },
  {
   "cell_type": "code",
   "execution_count": 19,
   "metadata": {
    "id": "gGoUqj3_4PYF"
   },
   "outputs": [],
   "source": [
    "class cib(viewbalance):\n",
    "    def loan_cib(self,loan):\n",
    "        self.loan=loan\n",
    "        print(f' the loan is {loan} and duration is 100 months')"
   ]
  },
  {
   "cell_type": "code",
   "execution_count": 20,
   "metadata": {},
   "outputs": [
    {
     "name": "stdout",
     "output_type": "stream",
     "text": [
      " name of user is islam, age of user is 26, gender is male and balance is 16500\n"
     ]
    }
   ],
   "source": [
    "user2=cib('islam','26','male',16500)"
   ]
  },
  {
   "cell_type": "code",
   "execution_count": 21,
   "metadata": {},
   "outputs": [
    {
     "name": "stdout",
     "output_type": "stream",
     "text": [
      " the loan is 1000000 and duration is 100 months\n"
     ]
    }
   ],
   "source": [
    "user2.loan_cib(1000000)"
   ]
  },
  {
   "cell_type": "code",
   "execution_count": 29,
   "metadata": {},
   "outputs": [],
   "source": [
    "class QNB(cib):\n",
    "    def loan_QNB(self,loan):\n",
    "        self.loan=loan\n",
    "        print(f' the loan is {loan} and duration is 200 months')"
   ]
  },
  {
   "cell_type": "code",
   "execution_count": 30,
   "metadata": {},
   "outputs": [
    {
     "name": "stdout",
     "output_type": "stream",
     "text": [
      " name of user is omer, age of user is 26, gender is male and balance is 17500\n"
     ]
    }
   ],
   "source": [
    "user3=QNB('omer','26','male',17500)"
   ]
  },
  {
   "cell_type": "code",
   "execution_count": 31,
   "metadata": {},
   "outputs": [
    {
     "name": "stdout",
     "output_type": "stream",
     "text": [
      " the loan is 2000000 and duration is 200 months\n"
     ]
    }
   ],
   "source": [
    "user3.loan_QNB(2000000)"
   ]
  },
  {
   "cell_type": "code",
   "execution_count": null,
   "metadata": {},
   "outputs": [],
   "source": []
  }
 ],
 "metadata": {
  "colab": {
   "provenance": []
  },
  "kernelspec": {
   "display_name": "Python 3 (ipykernel)",
   "language": "python",
   "name": "python3"
  },
  "language_info": {
   "codemirror_mode": {
    "name": "ipython",
    "version": 3
   },
   "file_extension": ".py",
   "mimetype": "text/x-python",
   "name": "python",
   "nbconvert_exporter": "python",
   "pygments_lexer": "ipython3",
   "version": "3.10.8"
  }
 },
 "nbformat": 4,
 "nbformat_minor": 1
}
